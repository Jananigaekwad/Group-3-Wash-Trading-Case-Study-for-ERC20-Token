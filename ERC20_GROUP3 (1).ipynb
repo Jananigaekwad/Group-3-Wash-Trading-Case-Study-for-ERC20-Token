import pickle

# Save one class svm model
with open("svm_model.pkl", "wb") as svm_file:
    pickle.dump(one_class_svm, svm_file)

# Save Ensemble model
with open("ensemble_model.pkl", "wb") as ensemble_file:
    pickle.dump(isolation_forest, ensemble_file)
print("Models saved successfully!")
